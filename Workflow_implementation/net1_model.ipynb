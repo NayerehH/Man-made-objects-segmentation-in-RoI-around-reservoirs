{
  "cells": [
    {
      "cell_type": "code",
      "execution_count": null,
      "metadata": {
        "id": "ywPczugcmcK6"
      },
      "outputs": [],
      "source": [
        "from keras_segmentation.models.segnet import segnet\n",
        "import os\n",
        "import glob\n",
        "import tensorflow as tf\n",
        "from tensorflow.keras.models import load_model"
      ]
    },
    {
      "cell_type": "code",
      "execution_count": null,
      "metadata": {
        "id": "eBz_50JGmcLC"
      },
      "outputs": [],
      "source": [
        "def model(rgb_addr, addr_to_save):\n",
        "\n",
        "    model = segnet(n_classes=2 ,  input_height=416, input_width=608,encoder_level=3 )\n",
        "\n",
        "    checkpoint_path = \"checkpointsnet1/\" + model.name + \".{epoch:05d}\"\n",
        "    checkpoint_dir = os.path.dirname(checkpoint_path)\n",
        "\n",
        "    latest = tf.train.latest_checkpoint(checkpoint_dir)\n",
        "\n",
        "    model.load_weights(latest)\n",
        "\n",
        "    data = glob.glob(rgb_addr+'*')\n",
        "\n",
        "    for i in range(len(data)):\n",
        "\n",
        "        out = model.predict_segmentation(\n",
        "        inp=data[i],\n",
        "        out_fname= data[i].replace(rgb_addr, addr_to_save)\n",
        "        )\n",
        ""
      ]
    }
  ],
  "metadata": {
    "kernelspec": {
      "display_name": "Python 3",
      "language": "python",
      "name": "python3"
    },
    "language_info": {
      "codemirror_mode": {
        "name": "ipython",
        "version": 3
      },
      "file_extension": ".py",
      "mimetype": "text/x-python",
      "name": "python",
      "nbconvert_exporter": "python",
      "pygments_lexer": "ipython3",
      "version": "3.7.6"
    },
    "toc": {
      "base_numbering": 1,
      "nav_menu": {},
      "number_sections": true,
      "sideBar": true,
      "skip_h1_title": false,
      "title_cell": "Table of Contents",
      "title_sidebar": "Contents",
      "toc_cell": false,
      "toc_position": {},
      "toc_section_display": true,
      "toc_window_display": false
    },
    "colab": {
      "provenance": []
    }
  },
  "nbformat": 4,
  "nbformat_minor": 0
}