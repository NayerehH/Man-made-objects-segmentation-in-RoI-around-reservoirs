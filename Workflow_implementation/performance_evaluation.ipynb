{
  "cells": [
    {
      "cell_type": "code",
      "execution_count": null,
      "metadata": {
        "id": "klvQ90XBnFQw"
      },
      "outputs": [],
      "source": [
        "from sklearn.metrics import classification_report\n",
        "import numpy as np\n",
        "import os\n",
        "import cv2"
      ]
    },
    {
      "cell_type": "code",
      "execution_count": null,
      "metadata": {
        "id": "_23wiRGfnFQ2"
      },
      "outputs": [],
      "source": [
        "def evaluate(net1_anno_addr,net1_output_addr):\n",
        "    labels =np.sort(os.listdir(net1_anno_addr))\n",
        "\n",
        "    masks_list,pre_l = [], []\n",
        "\n",
        "\n",
        "    for i in range(len(labels)):\n",
        "        masks_list.append(cv2.imread(net1_anno_addr+labels[i])[:,:,0])\n",
        "        pre_l.append(np.floor(cv2.imread(net1_output_addr+labels[i])[:,:,2]/200))\n",
        "\n",
        "    masks_np = np.asarray(masks_list)\n",
        "    pre_np = np.asarray(pre_l)\n",
        "\n",
        "    y_train = np.asarray(masks_np, dtype=np.float32)\n",
        "    pre_np = np.asarray(pre_np, dtype=np.float32)\n",
        "\n",
        "    y_train = y_train.reshape(y_train.shape[0], y_train.shape[1], y_train.shape[2], 1)\n",
        "    yy = y_train.flatten()\n",
        "    pre_np = pre_np.reshape(pre_np.shape[0], pre_np.shape[1], pre_np.shape[2], 1)\n",
        "    pre_np = pre_np.flatten()\n",
        "    print(pre_np.shape, yy.shape)\n",
        "    #***************************************\n",
        "    #***************************************\n",
        "    print('performance :')\n",
        "    print(classification_report(yy, pre_np, labels=[0,1], digits=4))"
      ]
    },
    {
      "cell_type": "code",
      "execution_count": null,
      "metadata": {
        "id": "KI_KQ2FvnFQ7"
      },
      "outputs": [],
      "source": [
        "def find_patches(output,labels_addr):\n",
        "    reservoir_size = output.shape\n",
        "    refine_patches,label = [], []\n",
        "    patchx , patchy = 416,608\n",
        "    labels=os.listdir(labels_addr)\n",
        "\n",
        "    for patch_name in labels :\n",
        "\n",
        "        numbers = []\n",
        "        for word in patch_name.split():\n",
        "            if word. isdigit():\n",
        "                numbers.append(int(word))\n",
        "\n",
        "        line, col = numbers[0], numbers[1]\n",
        "\n",
        "        y0, y1 = (col-1)*patchy, col*patchy\n",
        "        if y1 > reservoir_size[1] :\n",
        "            y0, y1 = reservoir_size[1]-patchy, reservoir_size[1]\n",
        "\n",
        "        x0,x1 = (line-1)*patchx, line*patchx\n",
        "        if x1 > reservoir_size[0] :\n",
        "            x0, x1 = reservoir_size[0]-patchx, reservoir_size[0]\n",
        "\n",
        "        refine_patches.append(output[x0:x1 , y0:y1,0])\n",
        "        label.append(cv2.imread(labels_addr+patch_name)[:,:,0])\n",
        "\n",
        "    return refine_patches,label\n",
        "\n",
        "\n",
        "\n",
        "def evaluate_using_mosaic(labels,mosaic):\n",
        "    output = cv2.imread(mosaic)\n",
        "\n",
        "    refine_patches,labels = find_patches(output,labels)\n",
        "    refine = np.array(refine_patches).flatten()\n",
        "\n",
        "    print('classification report: ')\n",
        "    print(classification_report(np.array(labels).flatten(), refine, labels=[0,1], digits=4))"
      ]
    },
    {
      "cell_type": "code",
      "execution_count": null,
      "metadata": {
        "id": "18yUDuF8nFQ_"
      },
      "outputs": [],
      "source": [
        "def evaluate2(net2_patches_addr,net2_output):\n",
        "\n",
        "    labels = os.listdir(net2_patches_addr+'anno/')\n",
        "\n",
        "    masks_list,pre_l = [], []\n",
        "    for i in range(len(labels)):\n",
        "        masks_list.append(np.floor(cv2.imread(net2_patches_addr+'anno/'+labels[i])[:,:,0]/200))\n",
        "        pre_l.append(cv2.imread(net2_output+labels[i])[:,:,0])\n",
        "\n",
        "\n",
        "    masks_np = np.asarray(masks_list)\n",
        "    pre_np = np.asarray(pre_l)\n",
        "\n",
        "    y_train = np.asarray(masks_np, dtype=np.float32)\n",
        "    pre_np = np.asarray(pre_np, dtype=np.float32)\n",
        "\n",
        "    y_train = y_train.reshape(y_train.shape[0], y_train.shape[1], y_train.shape[2], 1)\n",
        "    yy = y_train.flatten()\n",
        "    pre_np = pre_np.reshape(pre_np.shape[0], pre_np.shape[1], pre_np.shape[2], 1)\n",
        "    pre_np = pre_np.flatten()\n",
        "\n",
        "    print('performance :')\n",
        "    print(classification_report(yy, pre_np, labels=[0,1], digits=4))\n"
      ]
    }
  ],
  "metadata": {
    "kernelspec": {
      "display_name": "Python 3",
      "language": "python",
      "name": "python3"
    },
    "language_info": {
      "codemirror_mode": {
        "name": "ipython",
        "version": 3
      },
      "file_extension": ".py",
      "mimetype": "text/x-python",
      "name": "python",
      "nbconvert_exporter": "python",
      "pygments_lexer": "ipython3",
      "version": "3.7.6"
    },
    "toc": {
      "base_numbering": 1,
      "nav_menu": {},
      "number_sections": true,
      "sideBar": true,
      "skip_h1_title": false,
      "title_cell": "Table of Contents",
      "title_sidebar": "Contents",
      "toc_cell": false,
      "toc_position": {},
      "toc_section_display": true,
      "toc_window_display": false
    },
    "colab": {
      "provenance": []
    }
  },
  "nbformat": 4,
  "nbformat_minor": 0
}