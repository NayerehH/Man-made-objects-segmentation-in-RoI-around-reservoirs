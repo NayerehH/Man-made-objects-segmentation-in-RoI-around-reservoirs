{
  "cells": [
    {
      "cell_type": "code",
      "execution_count": null,
      "metadata": {
        "id": "Hn6yEZOvTchs",
        "outputId": "7e51fc20-5640-4617-abf0-8f4db7f9454b"
      },
      "outputs": [
        {
          "name": "stdout",
          "output_type": "stream",
          "text": [
            "Segmentation Models: using `keras` framework.\n"
          ]
        }
      ],
      "source": [
        "import glob\n",
        "import cv2\n",
        "import numpy as np\n",
        "import matplotlib.pyplot as plt\n",
        "import segmentation_models as sm\n",
        "from tensorflow import keras\n",
        "import tensorflow as tf\n",
        "sm.set_framework('tf.keras')"
      ]
    },
    {
      "cell_type": "code",
      "execution_count": null,
      "metadata": {
        "id": "TXgFSx2pTchx"
      },
      "outputs": [],
      "source": [
        "def FPN(patches_addr, addr_to_save):\n",
        "    model = sm.FPN('vgg16', classes=1, activation='sigmoid',encoder_weights='imagenet',pyramid_dropout=0.3)\n",
        "\n",
        "    model_name = './net2_fpn.h5'\n",
        "    model.load_weights(model_name)\n",
        "    print('model is loaded')\n",
        "    dataset = glob.glob(patches_addr+'*')\n",
        "\n",
        "    for i in range(len(dataset)):\n",
        "        image = cv2.imread(dataset[i])\n",
        "        image = np.expand_dims(image, axis=0)\n",
        "        pr_mask = model.predict(image).round()\n",
        "        newimg = pr_mask[0,:,:,:]\n",
        "\n",
        "        name = dataset[i].replace(patches_addr,addr_to_save)\n",
        "        cv2.imwrite(name,newimg)\n",
        "    print('prediction outputs are saved!')\n",
        "   '''\n",
        "    print('some examples: ')\n",
        "\n",
        "\n",
        "    ids = np.random.choice(np.arange(len(glob.glob(addr_to_save+'*'))), size=100)\n",
        "    num = 0\n",
        "    for i in ids:\n",
        "        image = cv2.imread(dataset[i])\n",
        "        image = np.expand_dims(image, axis=0)\n",
        "        pr_mask = model.predict(image).round()\n",
        "        newimg = pr_mask[0,:,:,:]\n",
        "        im = np.zeros((384,384,3))\n",
        "        im[:,:,0],im[:,:,1], im[:,:,2] = newimg[:,:,0],newimg[:,:,0],newimg[:,:,0]\n",
        "\n",
        "        if np.max(im)>0:\n",
        "            num+=1\n",
        "            fig, axs = plt.subplots(1, 2,figsize=(15, 10))\n",
        "            axs[0].imshow(cv2.imread(dataset[i]).astype(np.uint8))\n",
        "            axs[1].imshow((im*100).astype(np.uint8))\n",
        "\n",
        "        if num == 2 :\n",
        "            break\n",
        " '''\n",
        ""
      ]
    }
  ],
  "metadata": {
    "kernelspec": {
      "display_name": "Python 3",
      "language": "python",
      "name": "python3"
    },
    "language_info": {
      "codemirror_mode": {
        "name": "ipython",
        "version": 3
      },
      "file_extension": ".py",
      "mimetype": "text/x-python",
      "name": "python",
      "nbconvert_exporter": "python",
      "pygments_lexer": "ipython3",
      "version": "3.7.6"
    },
    "toc": {
      "base_numbering": 1,
      "nav_menu": {},
      "number_sections": true,
      "sideBar": true,
      "skip_h1_title": false,
      "title_cell": "Table of Contents",
      "title_sidebar": "Contents",
      "toc_cell": false,
      "toc_position": {},
      "toc_section_display": true,
      "toc_window_display": false
    },
    "colab": {
      "provenance": []
    }
  },
  "nbformat": 4,
  "nbformat_minor": 0
}
