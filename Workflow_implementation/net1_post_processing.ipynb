{
  "cells": [
    {
      "cell_type": "code",
      "execution_count": null,
      "metadata": {
        "id": "wgbfsSV-Tb_W"
      },
      "outputs": [],
      "source": [
        "import numpy as np\n",
        "import glob\n",
        "import matplotlib.pyplot as plt\n",
        "import time\n",
        "import cv2\n",
        "from timeit import default_timer as timer\n",
        "from skimage.segmentation import felzenszwalb\n",
        "\n",
        "from skimage import measure\n",
        "from skimage.measure import find_contours, approximate_polygon,subdivide_polygon\n",
        "import PIL\n",
        "PIL.Image.MAX_IMAGE_PIXELS = 933120000\n"
      ]
    },
    {
      "cell_type": "code",
      "execution_count": null,
      "metadata": {
        "id": "vm0FPeUOTb_a"
      },
      "outputs": [],
      "source": [
        "def assemble(reservoir_shape ,pre_address,patchx,patchy,output_name):\n",
        "\n",
        "    patches= np.sort(glob.glob(pre_address+'*'))\n",
        "    print('number of patches: ',len(patches))\n",
        "\n",
        "    mosaic = np.zeros(reservoir_shape).astype('uint8')\n",
        "    for patch_name in patches :\n",
        "        if True:\n",
        "         #   print(patch_name)\n",
        "            patch_img = cv2.imread(patch_name)\n",
        "\n",
        "            numbers = []\n",
        "            for word in patch_name.split():\n",
        "                if word. isdigit():\n",
        "                    numbers. append(int(word))\n",
        "\n",
        "            line, col = numbers[0], numbers[1]\n",
        "\n",
        "            y0, y1 = (col-1)*patchy, col*patchy\n",
        "            if y1 > reservoir_shape[1]:\n",
        "                y0, y1 = reservoir_shape[1]-patchy, reservoir_shape[1]\n",
        "\n",
        "            x0,x1 = (line-1)*patchx, line*patchx\n",
        "            if x1 > reservoir_shape[0]: # reservoirs[mosaic_n][1][0] :\n",
        "                x0, x1 = reservoir_shape[0]-patchx, reservoir_shape[0]\n",
        "\n",
        "            mosaic[x0:x1 , y0:y1, 2 ] = patch_img[:,:,2]\n",
        "\n",
        "    name = output_name\n",
        "\n",
        "    cv2.imwrite(name, mosaic)\n",
        "    print('assembled predition outputs :')\n",
        "\n",
        "    plt.imshow(mosaic)\n",
        "    plt.show()\n",
        "   # return  #mosaic"
      ]
    },
    {
      "cell_type": "code",
      "execution_count": null,
      "metadata": {
        "id": "HPz9RUWhTb_d"
      },
      "outputs": [],
      "source": [
        "def find_reser_aeras(im):\n",
        "\n",
        "    labels = measure.label(im, connectivity=1)\n",
        "    props = measure.regionprops(labels)\n",
        "    area = [prop.area for prop in props]\n",
        "\n",
        "    return area,labels\n",
        "\n",
        "\n",
        "def delete_holes(im,area,labels,threshold):\n",
        "    smallclouds = [t[0] for t in filter(lambda a: a[1] < threshold, enumerate(area, 1))]\n",
        "    for label in smallclouds:\n",
        "        im[labels == label] = 1\n",
        "\n",
        "    return im\n",
        "\n",
        "def delete_water_bodies(im,area,labels,threshold):\n",
        "    smallclouds = [t[0] for t in filter(lambda a: a[1] < threshold, enumerate(area, 1))]\n",
        "    for label in smallclouds:\n",
        "        im[labels == label] = 0\n",
        "    return im\n"
      ]
    },
    {
      "cell_type": "code",
      "execution_count": null,
      "metadata": {
        "id": "KjJaz4M8Tb_g"
      },
      "outputs": [],
      "source": [
        "def morpho_operation(resolution,mosaic_addr):\n",
        "\n",
        "    k = int(100/resolution)\n",
        "    kernel = np.ones((k,k),np.uint8)\n",
        "\n",
        "    img = cv2.imread(mosaic_addr)[:,:,2]\n",
        "    maximg = np.max(img)\n",
        "    img = np.floor(img/190)\n",
        "\n",
        "\n",
        "    closing = cv2.morphologyEx(img , cv2.MORPH_CLOSE, kernel)\n",
        "\n",
        "    opening = cv2.morphologyEx(closing , cv2.MORPH_OPEN, kernel)\n",
        "\n",
        "    newimg = np.zeros((img.shape[0],img.shape[1],3))\n",
        "    newimg[:,:,2] = opening[:,:]#*100\n",
        "\n",
        "    return newimg\n",
        "\n",
        "def rule_based_refinment(newimg,addr_to_save):\n",
        "\n",
        "    input_img = newimg[:,:,2].astype(int)\n",
        "\n",
        "    mosaic_wo_small_res = input_img\n",
        "\n",
        "    area,labels = find_reser_aeras(mosaic_wo_small_res)\n",
        "    max_area, min_area = max(area),min(area)\n",
        "    threshold= int(max_area/10)\n",
        "    refined_1 = delete_water_bodies(mosaic_wo_small_res,area,labels,threshold)\n",
        "\n",
        "    #********** holes :\n",
        "    input_img = refined_1\n",
        "    area,labels = find_reser_aeras(input_img+1)\n",
        "    max_area, min_area = max(area),min(area)\n",
        "\n",
        "    threshold= int(max_area/10)\n",
        "    refined_2 = delete_holes(input_img,area,labels,threshold)\n",
        "\n",
        "\n",
        "    print('final post processing output:')\n",
        "    plt.imshow(refined_2*100)\n",
        "    plt.show()\n",
        "    cv2.imwrite(addr_to_save,refined_2)\n",
        ""
      ]
    },
    {
      "cell_type": "code",
      "execution_count": null,
      "metadata": {
        "id": "6F5dgS7iTb_k"
      },
      "outputs": [],
      "source": [
        "def morpho_and_rulebased_refinmnets(resolution,mosaic_addr,addr_to_save):\n",
        "\n",
        "    morpho_refinment = morpho_operation(resolution,mosaic_addr)\n",
        "\n",
        "    rule_based_refinment(morpho_refinment,addr_to_save)\n",
        ""
      ]
    }
  ],
  "metadata": {
    "kernelspec": {
      "display_name": "Python 3",
      "language": "python",
      "name": "python3"
    },
    "language_info": {
      "codemirror_mode": {
        "name": "ipython",
        "version": 3
      },
      "file_extension": ".py",
      "mimetype": "text/x-python",
      "name": "python",
      "nbconvert_exporter": "python",
      "pygments_lexer": "ipython3",
      "version": "3.7.6"
    },
    "toc": {
      "base_numbering": 1,
      "nav_menu": {},
      "number_sections": true,
      "sideBar": true,
      "skip_h1_title": false,
      "title_cell": "Table of Contents",
      "title_sidebar": "Contents",
      "toc_cell": false,
      "toc_position": {},
      "toc_section_display": true,
      "toc_window_display": false
    },
    "colab": {
      "provenance": []
    }
  },
  "nbformat": 4,
  "nbformat_minor": 0
}